{
  "nbformat": 4,
  "nbformat_minor": 0,
  "metadata": {
    "colab": {
      "name": "Untitled8.ipynb",
      "provenance": [],
      "collapsed_sections": [],
      "include_colab_link": true
    },
    "kernelspec": {
      "name": "python3",
      "display_name": "Python 3"
    }
  },
  "cells": [
    {
      "cell_type": "markdown",
      "metadata": {
        "id": "view-in-github",
        "colab_type": "text"
      },
      "source": [
        "<a href=\"https://colab.research.google.com/github/nguyenthaibinh129/basic_algorithms/blob/master/Untitled8.ipynb\" target=\"_parent\"><img src=\"https://colab.research.google.com/assets/colab-badge.svg\" alt=\"Open In Colab\"/></a>"
      ]
    },
    {
      "cell_type": "code",
      "metadata": {
        "id": "jhyVdBZtRkoc",
        "colab_type": "code",
        "outputId": "66e16ef0-1cc5-4872-befb-55d940d4a414",
        "colab": {
          "base_uri": "https://localhost:8080/",
          "height": 51
        }
      },
      "source": [
        "List_A= [1,1,2,5,5,5,8,8,9]\n",
        "print(List_A)\n",
        "List_B=[1,2,2,3,3,3,6,10]\n",
        "print(List_B)\n"
      ],
      "execution_count": 0,
      "outputs": [
        {
          "output_type": "stream",
          "text": [
            "[1, 1, 2, 5, 5, 5, 8, 8, 9]\n",
            "[1, 2, 2, 3, 3, 3, 6, 10]\n"
          ],
          "name": "stdout"
        }
      ]
    },
    {
      "cell_type": "code",
      "metadata": {
        "id": "0mTkbz-vSzRr",
        "colab_type": "code",
        "outputId": "5e1e4d26-f8e2-4f4c-c250-3e7a2dc44099",
        "colab": {
          "base_uri": "https://localhost:8080/",
          "height": 51
        }
      },
      "source": [
        "List_A_set= set(List_A)\n",
        "print(List_A_set)\n",
        "List_B_set= set(List_B)\n",
        "print(List_B_set)\n"
      ],
      "execution_count": 0,
      "outputs": [
        {
          "output_type": "stream",
          "text": [
            "{1, 2, 5, 8, 9}\n",
            "{1, 2, 3, 6, 10}\n"
          ],
          "name": "stdout"
        }
      ]
    },
    {
      "cell_type": "code",
      "metadata": {
        "id": "5LU6cZcKTNUX",
        "colab_type": "code",
        "outputId": "37ae4128-2f7e-41c8-ee1d-57c8cae7d7ca",
        "colab": {
          "base_uri": "https://localhost:8080/",
          "height": 34
        }
      },
      "source": [
        "List_A_set|List_B_set"
      ],
      "execution_count": 0,
      "outputs": [
        {
          "output_type": "execute_result",
          "data": {
            "text/plain": [
              "{1, 2, 3, 5, 6, 8, 9, 10}"
            ]
          },
          "metadata": {
            "tags": []
          },
          "execution_count": 12
        }
      ]
    },
    {
      "cell_type": "code",
      "metadata": {
        "id": "IBlKuva0U2qu",
        "colab_type": "code",
        "outputId": "dcf2c4a3-f734-4c54-c1aa-646205e82936",
        "colab": {
          "base_uri": "https://localhost:8080/",
          "height": 34
        }
      },
      "source": [
        "List_A_set&List_B_set"
      ],
      "execution_count": 0,
      "outputs": [
        {
          "output_type": "execute_result",
          "data": {
            "text/plain": [
              "{1, 2}"
            ]
          },
          "metadata": {
            "tags": []
          },
          "execution_count": 13
        }
      ]
    },
    {
      "cell_type": "code",
      "metadata": {
        "id": "ne_HW10yVHMJ",
        "colab_type": "code",
        "outputId": "c41fa35d-45ec-4ea0-ebd5-422e1c6a8fec",
        "colab": {
          "base_uri": "https://localhost:8080/",
          "height": 34
        }
      },
      "source": [
        "List_A_set.symmetric_difference(List_B_set)"
      ],
      "execution_count": 0,
      "outputs": [
        {
          "output_type": "execute_result",
          "data": {
            "text/plain": [
              "{3, 5, 6, 8, 9, 10}"
            ]
          },
          "metadata": {
            "tags": []
          },
          "execution_count": 14
        }
      ]
    },
    {
      "cell_type": "code",
      "metadata": {
        "id": "4QwVmxZcWRV3",
        "colab_type": "code",
        "colab": {
          "base_uri": "https://localhost:8080/",
          "height": 34
        },
        "outputId": "6498962d-e2f9-4437-ffcc-7fe17d18b4d9"
      },
      "source": [
        "a={'いち':1,'に':2,'さん':3,'よん':4,'ご':5,'ろく':6,'なな':7,'はち':8,'きゅう':9,'じゅう':10}\n",
        "print(a)"
      ],
      "execution_count": 27,
      "outputs": [
        {
          "output_type": "stream",
          "text": [
            "{'いち': 1, 'に': 2, 'さん': 3, 'よん': 4, 'ご': 5, 'ろく': 6, 'なな': 7, 'はち': 8, 'きゅう': 9, 'じゅう': 10}\n"
          ],
          "name": "stdout"
        }
      ]
    },
    {
      "cell_type": "code",
      "metadata": {
        "id": "Fy7WCoL3ZxKD",
        "colab_type": "code",
        "colab": {
          "base_uri": "https://localhost:8080/",
          "height": 34
        },
        "outputId": "94c362b5-fc10-4c29-c3ad-e1046984b8a8"
      },
      "source": [
        "num_key=len(a)\n",
        "print(num_key)"
      ],
      "execution_count": 28,
      "outputs": [
        {
          "output_type": "stream",
          "text": [
            "10\n"
          ],
          "name": "stdout"
        }
      ]
    },
    {
      "cell_type": "code",
      "metadata": {
        "id": "HiFNTWbVbPur",
        "colab_type": "code",
        "colab": {
          "base_uri": "https://localhost:8080/",
          "height": 34
        },
        "outputId": "22ba93da-21b5-4a74-9bcd-6b829d42c8a8"
      },
      "source": [
        "contains_tan_k=a.get('+')\n",
        "print(contains_tan_k)"
      ],
      "execution_count": 26,
      "outputs": [
        {
          "output_type": "stream",
          "text": [
            "None\n"
          ],
          "name": "stdout"
        }
      ]
    },
    {
      "cell_type": "code",
      "metadata": {
        "id": "JjaqvR9tbo9R",
        "colab_type": "code",
        "colab": {
          "base_uri": "https://localhost:8080/",
          "height": 34
        },
        "outputId": "83051057-125d-4730-b0c7-ec510a8f3eab"
      },
      "source": [
        "a['じゅういち']=11\n",
        "print(a)"
      ],
      "execution_count": 29,
      "outputs": [
        {
          "output_type": "stream",
          "text": [
            "{'いち': 1, 'に': 2, 'さん': 3, 'よん': 4, 'ご': 5, 'ろく': 6, 'なな': 7, 'はち': 8, 'きゅう': 9, 'じゅう': 10, 'じゅういち': 11}\n"
          ],
          "name": "stdout"
        }
      ]
    },
    {
      "cell_type": "code",
      "metadata": {
        "id": "btes3h2icpOk",
        "colab_type": "code",
        "colab": {}
      },
      "source": [
        ""
      ],
      "execution_count": 0,
      "outputs": []
    },
    {
      "cell_type": "code",
      "metadata": {
        "id": "IMhLskprdJV8",
        "colab_type": "code",
        "colab": {
          "base_uri": "https://localhost:8080/",
          "height": 34
        },
        "outputId": "ca7efc7f-93b0-4c48-cbca-5f6da082a79b"
      },
      "source": [
        "sorted_keys=sorted(a.keys())\n",
        "print(sorted_keys)"
      ],
      "execution_count": 36,
      "outputs": [
        {
          "output_type": "stream",
          "text": [
            "['いち', 'きゅう', 'ご', 'さん', 'じゅう', 'じゅういち', 'なな', 'に', 'はち', 'よん', 'ろく']\n"
          ],
          "name": "stdout"
        }
      ]
    },
    {
      "cell_type": "code",
      "metadata": {
        "id": "Uy521-JHdoe6",
        "colab_type": "code",
        "colab": {
          "base_uri": "https://localhost:8080/",
          "height": 34
        },
        "outputId": "873cdec2-2385-4f96-e1cf-683511bcd200"
      },
      "source": [
        "sorted_values=sorted(a.values())\n",
        "print(sorted_values)"
      ],
      "execution_count": 34,
      "outputs": [
        {
          "output_type": "stream",
          "text": [
            "[1, 2, 3, 4, 5, 6, 7, 8, 9, 10, 11]\n"
          ],
          "name": "stdout"
        }
      ]
    },
    {
      "cell_type": "code",
      "metadata": {
        "id": "1D4Go98-dp-J",
        "colab_type": "code",
        "colab": {
          "base_uri": "https://localhost:8080/",
          "height": 34
        },
        "outputId": "90c40a5b-b6b1-4ac4-bfb1-a78953e8dfaa"
      },
      "source": [
        "print(sorted_keys[0])"
      ],
      "execution_count": 37,
      "outputs": [
        {
          "output_type": "stream",
          "text": [
            "いち\n"
          ],
          "name": "stdout"
        }
      ]
    },
    {
      "cell_type": "code",
      "metadata": {
        "id": "RaAVPBUQd5IT",
        "colab_type": "code",
        "colab": {
          "base_uri": "https://localhost:8080/",
          "height": 34
        },
        "outputId": "ed06d219-3311-4888-f0f2-534d8f21f734"
      },
      "source": [
        "print(sorted_keys[-1])"
      ],
      "execution_count": 38,
      "outputs": [
        {
          "output_type": "stream",
          "text": [
            "ろく\n"
          ],
          "name": "stdout"
        }
      ]
    },
    {
      "cell_type": "code",
      "metadata": {
        "id": "ekJEMUr9eC6L",
        "colab_type": "code",
        "colab": {
          "base_uri": "https://localhost:8080/",
          "height": 51
        },
        "outputId": "47c73de4-7ecb-4c15-89e9-5df2ba9505d4"
      },
      "source": [
        "sorted_values=sorted(a)\n",
        "sorted_values2=sorted(a.values())\n",
        "print(sorted_values)\n",
        "print(sorted_values2)"
      ],
      "execution_count": 39,
      "outputs": [
        {
          "output_type": "stream",
          "text": [
            "['いち', 'きゅう', 'ご', 'さん', 'じゅう', 'じゅういち', 'なな', 'に', 'はち', 'よん', 'ろく']\n",
            "[1, 2, 3, 4, 5, 6, 7, 8, 9, 10, 11]\n"
          ],
          "name": "stdout"
        }
      ]
    },
    {
      "cell_type": "code",
      "metadata": {
        "id": "Zz6WyDgueW38",
        "colab_type": "code",
        "colab": {
          "base_uri": "https://localhost:8080/",
          "height": 270
        },
        "outputId": "7af8223e-7eca-41d6-ab82-6127642c5cd6"
      },
      "source": [
        "print(\"please insert any number\")\n",
        "x=input()\n",
        "x=int\n",
        "if x==():\n",
        "   print(x,\"is zero\")\n",
        "elif x >0:\n",
        "  print(x,\"is positive\")\n",
        "else:\n",
        "  print(x,\"is none\")"
      ],
      "execution_count": 43,
      "outputs": [
        {
          "output_type": "stream",
          "text": [
            "please insert any number\n",
            "3\n"
          ],
          "name": "stdout"
        },
        {
          "output_type": "error",
          "ename": "TypeError",
          "evalue": "ignored",
          "traceback": [
            "\u001b[0;31m---------------------------------------------------------------------------\u001b[0m",
            "\u001b[0;31mTypeError\u001b[0m                                 Traceback (most recent call last)",
            "\u001b[0;32m<ipython-input-43-4197a167a7b4>\u001b[0m in \u001b[0;36m<module>\u001b[0;34m()\u001b[0m\n\u001b[1;32m      4\u001b[0m \u001b[0;32mif\u001b[0m \u001b[0mx\u001b[0m\u001b[0;34m==\u001b[0m\u001b[0;34m(\u001b[0m\u001b[0;34m)\u001b[0m\u001b[0;34m:\u001b[0m\u001b[0;34m\u001b[0m\u001b[0;34m\u001b[0m\u001b[0m\n\u001b[1;32m      5\u001b[0m    \u001b[0mprint\u001b[0m\u001b[0;34m(\u001b[0m\u001b[0mx\u001b[0m\u001b[0;34m,\u001b[0m\u001b[0;34m\"is zero\"\u001b[0m\u001b[0;34m)\u001b[0m\u001b[0;34m\u001b[0m\u001b[0;34m\u001b[0m\u001b[0m\n\u001b[0;32m----> 6\u001b[0;31m \u001b[0;32melif\u001b[0m \u001b[0mx\u001b[0m \u001b[0;34m>\u001b[0m\u001b[0;36m0\u001b[0m\u001b[0;34m:\u001b[0m\u001b[0;34m\u001b[0m\u001b[0;34m\u001b[0m\u001b[0m\n\u001b[0m\u001b[1;32m      7\u001b[0m   \u001b[0mprint\u001b[0m\u001b[0;34m(\u001b[0m\u001b[0mx\u001b[0m\u001b[0;34m,\u001b[0m\u001b[0;34m\"is positive\"\u001b[0m\u001b[0;34m)\u001b[0m\u001b[0;34m\u001b[0m\u001b[0;34m\u001b[0m\u001b[0m\n\u001b[1;32m      8\u001b[0m \u001b[0;32melse\u001b[0m\u001b[0;34m:\u001b[0m\u001b[0;34m\u001b[0m\u001b[0;34m\u001b[0m\u001b[0m\n",
            "\u001b[0;31mTypeError\u001b[0m: '>' not supported between instances of 'type' and 'int'"
          ]
        }
      ]
    },
    {
      "cell_type": "code",
      "metadata": {
        "id": "Ibn5pogpgycN",
        "colab_type": "code",
        "colab": {}
      },
      "source": [
        "peint(\"please put counttry name(japan, malaysia, uk,europe,usa):\")\n",
        "country=input()\n",
        "print(\"please put the raw price of each good:\")\n",
        "raw_price_good=input()\n",
        "raw_price_good= int(raw_price_good)\n",
        "if cuontry =='japan':\n",
        "  tax_amount= 0.08\n",
        "  total_cost=raw_price_good*(1+tax_amount)\n",
        "  total_cost=round(total_cost,2)\n",
        "  elif cuontry== 'malaysia':\n",
        "     tax_amount= 0.14\n",
        "  total_cost=raw_price_good*(1+tax_amount)\n",
        "  total_cost=round(total_cost,2)\n",
        "  elif cuontry=='uk'\n",
        "  \n"
      ],
      "execution_count": 0,
      "outputs": []
    },
    {
      "cell_type": "code",
      "metadata": {
        "id": "u1snznypi_kv",
        "colab_type": "code",
        "colab": {}
      },
      "source": [
        ""
      ],
      "execution_count": 0,
      "outputs": []
    }
  ]
}
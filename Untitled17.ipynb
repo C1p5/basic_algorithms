{
  "nbformat": 4,
  "nbformat_minor": 0,
  "metadata": {
    "colab": {
      "name": "Untitled17.ipynb",
      "provenance": [],
      "authorship_tag": "ABX9TyPtMMfvTCrG8x3DZYyD07dJ",
      "include_colab_link": true
    },
    "kernelspec": {
      "name": "python3",
      "display_name": "Python 3"
    }
  },
  "cells": [
    {
      "cell_type": "markdown",
      "metadata": {
        "id": "view-in-github",
        "colab_type": "text"
      },
      "source": [
        "<a href=\"https://colab.research.google.com/github/nguyenthaibinh129/basic_algorithms/blob/master/Untitled17.ipynb\" target=\"_parent\"><img src=\"https://colab.research.google.com/assets/colab-badge.svg\" alt=\"Open In Colab\"/></a>"
      ]
    },
    {
      "cell_type": "code",
      "metadata": {
        "id": "X_uz83j6nUf_",
        "colab_type": "code",
        "colab": {}
      },
      "source": [
        "guess = int(input(\"入力してください: \"))\n",
        "count=0\n",
        "while count < guess:\n",
        "  import random\n",
        "  bien1=(random.randint(1, 6))\n",
        "  print(\"ket qua lan thu 1\")\n",
        "  print(bien1)\n",
        "  import random\n",
        "  bien2=(random.randint(1, 6))\n",
        "  print(\"ket qua lan thu 2\")\n",
        "  print(bien2)\n",
        "  import random\n",
        "  bien3=(random.randint(1, 6))\n",
        "  print(\"ket qua lan thu 3\")\n",
        "  print(bien3)\n",
        "  count +=1\n",
        "  if (bien1==bien2==bien3):\n",
        "    print(\"thang\")\n",
        "    break\n",
        "  elif (bien1>bien2 and bien1>bien3):\n",
        "    print(\"ket qua lon nhat\")\n",
        "    print(bien1)\n",
        "  elif (bien1<bien2 and bien2>bien3):\n",
        "    print(\"ket qua lon nhat\")\n",
        "    print(bien2)\n",
        "  else :\n",
        "    print(\"ket qua lon nhat\")\n",
        "    print (bien3)"
      ],
      "execution_count": 0,
      "outputs": []
    }
  ]
}